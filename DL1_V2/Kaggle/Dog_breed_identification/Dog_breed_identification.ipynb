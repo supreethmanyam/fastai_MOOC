{
 "cells": [
  {
   "cell_type": "code",
   "execution_count": 1,
   "metadata": {},
   "outputs": [],
   "source": [
    "%matplotlib inline\n",
    "%reload_ext autoreload\n",
    "%autoreload 2"
   ]
  },
  {
   "cell_type": "code",
   "execution_count": 2,
   "metadata": {},
   "outputs": [],
   "source": [
    "from fastai.conv_learner import *\n",
    "from sklearn.model_selection import StratifiedKFold\n",
    "from sklearn.linear_model import LogisticRegression\n",
    "from sklearn.preprocessing import LabelEncoder\n",
    "from sklearn.model_selection import cross_val_score\n",
    "from sklearn.metrics import log_loss\n",
    "\n",
    "import pandas as pd"
   ]
  },
  {
   "cell_type": "code",
   "execution_count": 3,
   "metadata": {},
   "outputs": [],
   "source": [
    "PATH = \"data/\"\n",
    "labels_df = pd.read_csv(f\"{PATH}labels.csv\")"
   ]
  },
  {
   "cell_type": "code",
   "execution_count": 4,
   "metadata": {},
   "outputs": [],
   "source": [
    "models_dict = {\"resnet34\": [resnet34, 299]}"
   ]
  },
  {
   "cell_type": "code",
   "execution_count": 5,
   "metadata": {},
   "outputs": [],
   "source": [
    "model_name = \"resnet34\"\n",
    "nfold = 5"
   ]
  },
  {
   "cell_type": "code",
   "execution_count": 6,
   "metadata": {},
   "outputs": [
    {
     "name": "stdout",
     "output_type": "stream",
     "text": [
      "Fold: 1\n",
      "Val preds\n",
      "Test preds                                   \n",
      "Fold: 2                                      \n",
      "Val preds\n",
      "Test preds                                   \n",
      "Fold: 3                                      \n",
      "Val preds\n",
      "Test preds                                   \n",
      "Fold: 4                                      \n",
      "Val preds\n",
      "Test preds                                   \n",
      "Fold: 5                                      \n",
      "Val preds\n",
      "Test preds                                   \n",
      "                                             \r"
     ]
    }
   ],
   "source": [
    "f_model = models_dict[model_name][0]\n",
    "tfms = tfms_from_model(f_model, models_dict[model_name][1])\n",
    "bm = BasicModel(f_model(True).cuda(), name=model_name)\n",
    "folds = list(StratifiedKFold(n_splits=nfold, shuffle=True, random_state=2018).split(labels_df, labels_df['breed']))\n",
    "for fold_idx, (build_index, val_index) in enumerate(folds):\n",
    "    print(f\"Fold: {fold_idx+1}\")\n",
    "    data = ImageClassifierData.from_csv(PATH, folder=\"train\", csv_fname=f\"{PATH}labels.csv\", val_idxs=val_index,\n",
    "                                        tfms=tfms, suffix=\".jpg\", test_name=\"test\")\n",
    "    learn = ConvLearner(data, bm)\n",
    "    val_ids = [x.split(\"/\")[1].split(\".\")[0] for x in data.val_dl.dataset.fnames]\n",
    "    print(\"Val preds\")\n",
    "    val_preds, val_y = learn.TTA()\n",
    "    val_df = pd.DataFrame(val_preds[0], columns=[model_name+f'_{i}' for i in range(val_preds[0].shape[1])])\n",
    "    val_df['id'] = val_ids\n",
    "    val_df['breed'] = [data.classes[x] for x in val_y]\n",
    "    print(\"Test preds\")\n",
    "    test_preds, test_y = learn.TTA(is_test=True)\n",
    "    if fold_idx == 0:\n",
    "        train_imagenet_preds_df = val_df\n",
    "        test_imagenet_preds = test_preds[0]\n",
    "    else:\n",
    "        train_imagenet_preds_df = pd.concat((train_imagenet_preds_df, val_df), ignore_index=True)\n",
    "        test_imagenet_preds = test_imagenet_preds+test_preds[0]\n",
    "test_ids = [x.split(\"/\")[1].split(\".\")[0] for x in data.test_dl.dataset.fnames]\n",
    "test_imagenet_preds_df = pd.DataFrame(test_imagenet_preds/nfold, columns=[model_name+f'_{i}' for i in range(test_imagenet_preds.shape[1])])\n",
    "test_imagenet_preds_df['id'] = test_ids"
   ]
  },
  {
   "cell_type": "code",
   "execution_count": 7,
   "metadata": {},
   "outputs": [
    {
     "data": {
      "text/plain": [
       "((10222, 1002), (10357, 1001))"
      ]
     },
     "execution_count": 7,
     "metadata": {},
     "output_type": "execute_result"
    }
   ],
   "source": [
    "train_imagenet_preds_df.shape, test_imagenet_preds_df.shape"
   ]
  },
  {
   "cell_type": "code",
   "execution_count": 9,
   "metadata": {},
   "outputs": [],
   "source": [
    "cols_for_model = np.setdiff1d(train_imagenet_preds_df.columns, ['id', 'breed'])\n",
    "target_enc = LabelEncoder().fit(train_imagenet_preds_df['breed'])\n",
    "y = target_enc.transform(train_imagenet_preds_df['breed'])"
   ]
  },
  {
   "cell_type": "code",
   "execution_count": 10,
   "metadata": {},
   "outputs": [],
   "source": [
    "lr = LogisticRegression(multi_class='multinomial', solver='lbfgs', random_state=2018)"
   ]
  },
  {
   "cell_type": "code",
   "execution_count": 11,
   "metadata": {},
   "outputs": [
    {
     "data": {
      "text/plain": [
       "array([-0.8965 , -0.97263, -0.86646, -0.87123, -1.03841])"
      ]
     },
     "execution_count": 11,
     "metadata": {},
     "output_type": "execute_result"
    }
   ],
   "source": [
    "cross_val_score(lr, train_imagenet_preds_df[cols_for_model], y, cv=5, scoring='neg_log_loss')"
   ]
  },
  {
   "cell_type": "code",
   "execution_count": 12,
   "metadata": {},
   "outputs": [
    {
     "data": {
      "text/html": [
       "<div>\n",
       "<style scoped>\n",
       "    .dataframe tbody tr th:only-of-type {\n",
       "        vertical-align: middle;\n",
       "    }\n",
       "\n",
       "    .dataframe tbody tr th {\n",
       "        vertical-align: top;\n",
       "    }\n",
       "\n",
       "    .dataframe thead th {\n",
       "        text-align: right;\n",
       "    }\n",
       "</style>\n",
       "<table border=\"1\" class=\"dataframe\">\n",
       "  <thead>\n",
       "    <tr style=\"text-align: right;\">\n",
       "      <th></th>\n",
       "      <th>resnet34_0</th>\n",
       "      <th>resnet34_1</th>\n",
       "      <th>resnet34_2</th>\n",
       "      <th>resnet34_3</th>\n",
       "      <th>resnet34_4</th>\n",
       "      <th>resnet34_5</th>\n",
       "      <th>resnet34_6</th>\n",
       "      <th>resnet34_7</th>\n",
       "      <th>resnet34_8</th>\n",
       "      <th>resnet34_9</th>\n",
       "      <th>...</th>\n",
       "      <th>resnet34_992</th>\n",
       "      <th>resnet34_993</th>\n",
       "      <th>resnet34_994</th>\n",
       "      <th>resnet34_995</th>\n",
       "      <th>resnet34_996</th>\n",
       "      <th>resnet34_997</th>\n",
       "      <th>resnet34_998</th>\n",
       "      <th>resnet34_999</th>\n",
       "      <th>id</th>\n",
       "      <th>breed</th>\n",
       "    </tr>\n",
       "  </thead>\n",
       "  <tbody>\n",
       "    <tr>\n",
       "      <th>0</th>\n",
       "      <td>-0.070379</td>\n",
       "      <td>-1.076080</td>\n",
       "      <td>-0.009911</td>\n",
       "      <td>-0.337891</td>\n",
       "      <td>1.501714</td>\n",
       "      <td>1.016293</td>\n",
       "      <td>-3.892714</td>\n",
       "      <td>-2.150835</td>\n",
       "      <td>-1.124098</td>\n",
       "      <td>-1.062657</td>\n",
       "      <td>...</td>\n",
       "      <td>-1.850504</td>\n",
       "      <td>-0.176857</td>\n",
       "      <td>-0.349097</td>\n",
       "      <td>0.525262</td>\n",
       "      <td>4.404806</td>\n",
       "      <td>2.229181</td>\n",
       "      <td>1.119235</td>\n",
       "      <td>1.655074</td>\n",
       "      <td>0097c6242c6f3071762d9f85c3ef1b2f</td>\n",
       "      <td>bedlington_terrier</td>\n",
       "    </tr>\n",
       "    <tr>\n",
       "      <th>1</th>\n",
       "      <td>-4.109834</td>\n",
       "      <td>1.862212</td>\n",
       "      <td>-2.638790</td>\n",
       "      <td>-3.052189</td>\n",
       "      <td>-3.084376</td>\n",
       "      <td>-2.389941</td>\n",
       "      <td>-3.924857</td>\n",
       "      <td>-3.730031</td>\n",
       "      <td>-2.870955</td>\n",
       "      <td>-4.085822</td>\n",
       "      <td>...</td>\n",
       "      <td>-0.614067</td>\n",
       "      <td>-3.907355</td>\n",
       "      <td>-3.986597</td>\n",
       "      <td>0.338468</td>\n",
       "      <td>0.622629</td>\n",
       "      <td>-1.512924</td>\n",
       "      <td>1.547756</td>\n",
       "      <td>3.018553</td>\n",
       "      <td>0100f55e4f0fe28f2c0465d3fc4b9897</td>\n",
       "      <td>golden_retriever</td>\n",
       "    </tr>\n",
       "    <tr>\n",
       "      <th>2</th>\n",
       "      <td>-2.082167</td>\n",
       "      <td>-2.613133</td>\n",
       "      <td>-0.390231</td>\n",
       "      <td>-1.741671</td>\n",
       "      <td>-2.456761</td>\n",
       "      <td>-3.437425</td>\n",
       "      <td>-3.569693</td>\n",
       "      <td>-0.294346</td>\n",
       "      <td>-2.450206</td>\n",
       "      <td>1.969398</td>\n",
       "      <td>...</td>\n",
       "      <td>-2.192272</td>\n",
       "      <td>-2.836021</td>\n",
       "      <td>-1.387077</td>\n",
       "      <td>-3.307569</td>\n",
       "      <td>-0.911991</td>\n",
       "      <td>-1.979435</td>\n",
       "      <td>2.805132</td>\n",
       "      <td>1.905234</td>\n",
       "      <td>013c43f40f0fb13fa25ac0c2a70fd48f</td>\n",
       "      <td>lakeland_terrier</td>\n",
       "    </tr>\n",
       "    <tr>\n",
       "      <th>3</th>\n",
       "      <td>-0.480021</td>\n",
       "      <td>-1.026040</td>\n",
       "      <td>-0.329162</td>\n",
       "      <td>-0.494634</td>\n",
       "      <td>-1.020971</td>\n",
       "      <td>-0.748823</td>\n",
       "      <td>-2.104345</td>\n",
       "      <td>-1.900351</td>\n",
       "      <td>-3.337512</td>\n",
       "      <td>-2.217547</td>\n",
       "      <td>...</td>\n",
       "      <td>-2.725060</td>\n",
       "      <td>0.244166</td>\n",
       "      <td>-0.584584</td>\n",
       "      <td>0.866015</td>\n",
       "      <td>0.085541</td>\n",
       "      <td>-1.085953</td>\n",
       "      <td>2.041765</td>\n",
       "      <td>1.654655</td>\n",
       "      <td>015b363b062f602e7ec04ce28e640d05</td>\n",
       "      <td>walker_hound</td>\n",
       "    </tr>\n",
       "    <tr>\n",
       "      <th>4</th>\n",
       "      <td>-0.325908</td>\n",
       "      <td>1.281235</td>\n",
       "      <td>-0.516538</td>\n",
       "      <td>-0.750131</td>\n",
       "      <td>-1.060617</td>\n",
       "      <td>-0.411316</td>\n",
       "      <td>-1.993077</td>\n",
       "      <td>0.072701</td>\n",
       "      <td>0.717892</td>\n",
       "      <td>-2.709718</td>\n",
       "      <td>...</td>\n",
       "      <td>0.145767</td>\n",
       "      <td>1.324569</td>\n",
       "      <td>-0.525506</td>\n",
       "      <td>-0.984244</td>\n",
       "      <td>1.074997</td>\n",
       "      <td>1.534111</td>\n",
       "      <td>1.397253</td>\n",
       "      <td>1.104915</td>\n",
       "      <td>01e2245b46eb747260ff80f1c892daef</td>\n",
       "      <td>brittany_spaniel</td>\n",
       "    </tr>\n",
       "  </tbody>\n",
       "</table>\n",
       "<p>5 rows × 1002 columns</p>\n",
       "</div>"
      ],
      "text/plain": [
       "   resnet34_0  resnet34_1  resnet34_2  resnet34_3  resnet34_4  resnet34_5  \\\n",
       "0   -0.070379   -1.076080   -0.009911   -0.337891    1.501714    1.016293   \n",
       "1   -4.109834    1.862212   -2.638790   -3.052189   -3.084376   -2.389941   \n",
       "2   -2.082167   -2.613133   -0.390231   -1.741671   -2.456761   -3.437425   \n",
       "3   -0.480021   -1.026040   -0.329162   -0.494634   -1.020971   -0.748823   \n",
       "4   -0.325908    1.281235   -0.516538   -0.750131   -1.060617   -0.411316   \n",
       "\n",
       "   resnet34_6  resnet34_7  resnet34_8  resnet34_9         ...          \\\n",
       "0   -3.892714   -2.150835   -1.124098   -1.062657         ...           \n",
       "1   -3.924857   -3.730031   -2.870955   -4.085822         ...           \n",
       "2   -3.569693   -0.294346   -2.450206    1.969398         ...           \n",
       "3   -2.104345   -1.900351   -3.337512   -2.217547         ...           \n",
       "4   -1.993077    0.072701    0.717892   -2.709718         ...           \n",
       "\n",
       "   resnet34_992  resnet34_993  resnet34_994  resnet34_995  resnet34_996  \\\n",
       "0     -1.850504     -0.176857     -0.349097      0.525262      4.404806   \n",
       "1     -0.614067     -3.907355     -3.986597      0.338468      0.622629   \n",
       "2     -2.192272     -2.836021     -1.387077     -3.307569     -0.911991   \n",
       "3     -2.725060      0.244166     -0.584584      0.866015      0.085541   \n",
       "4      0.145767      1.324569     -0.525506     -0.984244      1.074997   \n",
       "\n",
       "   resnet34_997  resnet34_998  resnet34_999                                id  \\\n",
       "0      2.229181      1.119235      1.655074  0097c6242c6f3071762d9f85c3ef1b2f   \n",
       "1     -1.512924      1.547756      3.018553  0100f55e4f0fe28f2c0465d3fc4b9897   \n",
       "2     -1.979435      2.805132      1.905234  013c43f40f0fb13fa25ac0c2a70fd48f   \n",
       "3     -1.085953      2.041765      1.654655  015b363b062f602e7ec04ce28e640d05   \n",
       "4      1.534111      1.397253      1.104915  01e2245b46eb747260ff80f1c892daef   \n",
       "\n",
       "                breed  \n",
       "0  bedlington_terrier  \n",
       "1    golden_retriever  \n",
       "2    lakeland_terrier  \n",
       "3        walker_hound  \n",
       "4    brittany_spaniel  \n",
       "\n",
       "[5 rows x 1002 columns]"
      ]
     },
     "execution_count": 12,
     "metadata": {},
     "output_type": "execute_result"
    }
   ],
   "source": [
    "train_imagenet_preds_df.head()"
   ]
  },
  {
   "cell_type": "code",
   "execution_count": 13,
   "metadata": {},
   "outputs": [],
   "source": [
    "from sklearn.model_selection import train_test_split"
   ]
  },
  {
   "cell_type": "code",
   "execution_count": 15,
   "metadata": {},
   "outputs": [],
   "source": [
    "b, v, y_b, y_v = train_test_split(train_imagenet_preds_df[cols_for_model], y, test_size=0.2, stratify=y, random_state=2018)"
   ]
  },
  {
   "cell_type": "code",
   "execution_count": 18,
   "metadata": {},
   "outputs": [],
   "source": [
    "lr = LogisticRegression(multi_class='multinomial', solver='lbfgs', random_state=2018)"
   ]
  },
  {
   "cell_type": "code",
   "execution_count": 19,
   "metadata": {},
   "outputs": [
    {
     "data": {
      "text/plain": [
       "LogisticRegression(C=1.0, class_weight=None, dual=False, fit_intercept=True,\n",
       "          intercept_scaling=1, max_iter=100, multi_class='multinomial',\n",
       "          n_jobs=1, penalty='l2', random_state=2018, solver='lbfgs',\n",
       "          tol=0.0001, verbose=0, warm_start=False)"
      ]
     },
     "execution_count": 19,
     "metadata": {},
     "output_type": "execute_result"
    }
   ],
   "source": [
    "lr.fit(b, y_b)"
   ]
  },
  {
   "cell_type": "code",
   "execution_count": 27,
   "metadata": {},
   "outputs": [
    {
     "data": {
      "text/plain": [
       "0.849637563631287"
      ]
     },
     "execution_count": 27,
     "metadata": {},
     "output_type": "execute_result"
    }
   ],
   "source": [
    "log_loss(y_v, lr.predict_proba(v).clip(0.001, 0.999))"
   ]
  },
  {
   "cell_type": "code",
   "execution_count": 22,
   "metadata": {},
   "outputs": [],
   "source": [
    "from sklearn.metrics import accuracy_score"
   ]
  },
  {
   "cell_type": "code",
   "execution_count": 23,
   "metadata": {},
   "outputs": [
    {
     "data": {
      "text/plain": [
       "0.8283618581907091"
      ]
     },
     "execution_count": 23,
     "metadata": {},
     "output_type": "execute_result"
    }
   ],
   "source": [
    "accuracy_score(y_v, lr.predict(v))"
   ]
  },
  {
   "cell_type": "code",
   "execution_count": 59,
   "metadata": {},
   "outputs": [],
   "source": [
    "from sklearn.decomposition import PCA\n",
    "pca = PCA(n_components=10)\n",
    "t_pca = pca.fit_transform(train_imagenet_preds_df.loc[:, cols_for_model])"
   ]
  },
  {
   "cell_type": "code",
   "execution_count": 28,
   "metadata": {},
   "outputs": [],
   "source": [
    "import xgboost as xgb"
   ]
  },
  {
   "cell_type": "code",
   "execution_count": 60,
   "metadata": {},
   "outputs": [],
   "source": [
    "# dtrain = xgb.DMatrix(train_imagenet_preds_df.loc[:, cols_for_model[:10]], y)\n",
    "dtrain = xgb.DMatrix(t_pca, y)"
   ]
  },
  {
   "cell_type": "code",
   "execution_count": 67,
   "metadata": {},
   "outputs": [],
   "source": [
    "params = {'objective': 'multi:softprob',\n",
    "          'booster': 'gbtree',\n",
    "          'eval_metric': 'mlogloss',\n",
    "          'nthread': 4,\n",
    "          'num_class': 120,\n",
    "          'silent': 1,\n",
    "          'max_depth': 6,\n",
    "          'subsample': 0.8,\n",
    "          'min_child_weight': 1,\n",
    "          \"colsample_bytree\": 0.9,\n",
    "          'eta': 0.1,\n",
    "          'verbose_eval': True,\n",
    "          'seed': 0}"
   ]
  },
  {
   "cell_type": "code",
   "execution_count": 34,
   "metadata": {},
   "outputs": [],
   "source": [
    "train_imagenet_preds_df.to_csv('train_resnet34.csv', index=False)\n",
    "test_imagenet_preds_df.to_csv('test_resnet34.csv', index=False)"
   ]
  },
  {
   "cell_type": "code",
   "execution_count": 35,
   "metadata": {},
   "outputs": [],
   "source": [
    "from IPython.display import FileLink"
   ]
  },
  {
   "cell_type": "code",
   "execution_count": 36,
   "metadata": {},
   "outputs": [
    {
     "data": {
      "text/html": [
       "<a href='train_resnet34.csv' target='_blank'>train_resnet34.csv</a><br>"
      ],
      "text/plain": [
       "/home/ubuntu/dog_breeds/train_resnet34.csv"
      ]
     },
     "execution_count": 36,
     "metadata": {},
     "output_type": "execute_result"
    }
   ],
   "source": [
    "FileLink('train_resnet34.csv')"
   ]
  },
  {
   "cell_type": "code",
   "execution_count": 37,
   "metadata": {},
   "outputs": [
    {
     "data": {
      "text/html": [
       "<a href='test_resnet34.csv' target='_blank'>test_resnet34.csv</a><br>"
      ],
      "text/plain": [
       "/home/ubuntu/dog_breeds/test_resnet34.csv"
      ]
     },
     "execution_count": 37,
     "metadata": {},
     "output_type": "execute_result"
    }
   ],
   "source": [
    "FileLink('test_resnet34.csv')"
   ]
  },
  {
   "cell_type": "code",
   "execution_count": 64,
   "metadata": {},
   "outputs": [
    {
     "name": "stdout",
     "output_type": "stream",
     "text": [
      "[0]\ttrain-mlogloss:4.00163+0.00812278\ttest-mlogloss:4.16673+0.0196928\n",
      "[1]\ttrain-mlogloss:3.47353+0.00811968\ttest-mlogloss:3.76275+0.0254611\n",
      "[2]\ttrain-mlogloss:3.09452+0.00578946\ttest-mlogloss:3.48495+0.0256306\n",
      "[3]\ttrain-mlogloss:2.79809+0.00588376\ttest-mlogloss:3.27116+0.0262844\n",
      "[4]\ttrain-mlogloss:2.56101+0.00588586\ttest-mlogloss:3.09932+0.0244681\n",
      "[5]\ttrain-mlogloss:2.36281+0.00557564\ttest-mlogloss:2.95497+0.0251979\n",
      "[6]\ttrain-mlogloss:2.19296+0.00618565\ttest-mlogloss:2.83186+0.0244697\n"
     ]
    },
    {
     "ename": "KeyboardInterrupt",
     "evalue": "",
     "output_type": "error",
     "traceback": [
      "\u001b[0;31m---------------------------------------------------------------------------\u001b[0m",
      "\u001b[0;31mKeyboardInterrupt\u001b[0m                         Traceback (most recent call last)",
      "\u001b[0;32m<ipython-input-64-eaa18ca722cf>\u001b[0m in \u001b[0;36m<module>\u001b[0;34m()\u001b[0m\n\u001b[0;32m----> 1\u001b[0;31m \u001b[0mclf_xgb_cv\u001b[0m \u001b[0;34m=\u001b[0m \u001b[0mxgb\u001b[0m\u001b[0;34m.\u001b[0m\u001b[0mcv\u001b[0m\u001b[0;34m(\u001b[0m\u001b[0mparams\u001b[0m\u001b[0;34m,\u001b[0m \u001b[0mdtrain\u001b[0m\u001b[0;34m,\u001b[0m \u001b[0mnum_boost_round\u001b[0m\u001b[0;34m=\u001b[0m\u001b[0;36m1000\u001b[0m\u001b[0;34m,\u001b[0m \u001b[0mearly_stopping_rounds\u001b[0m\u001b[0;34m=\u001b[0m\u001b[0;36m30\u001b[0m\u001b[0;34m,\u001b[0m \u001b[0mnfold\u001b[0m\u001b[0;34m=\u001b[0m\u001b[0;36m5\u001b[0m\u001b[0;34m,\u001b[0m \u001b[0mverbose_eval\u001b[0m\u001b[0;34m=\u001b[0m\u001b[0;32mTrue\u001b[0m\u001b[0;34m)\u001b[0m\u001b[0;34m\u001b[0m\u001b[0m\n\u001b[0m",
      "\u001b[0;32m~/src/anaconda3/envs/fastai/lib/python3.6/site-packages/xgboost/training.py\u001b[0m in \u001b[0;36mcv\u001b[0;34m(params, dtrain, num_boost_round, nfold, stratified, folds, metrics, obj, feval, maximize, early_stopping_rounds, fpreproc, as_pandas, verbose_eval, show_stdv, seed, callbacks, shuffle)\u001b[0m\n\u001b[1;32m    404\u001b[0m                            evaluation_result_list=None))\n\u001b[1;32m    405\u001b[0m         \u001b[0;32mfor\u001b[0m \u001b[0mfold\u001b[0m \u001b[0;32min\u001b[0m \u001b[0mcvfolds\u001b[0m\u001b[0;34m:\u001b[0m\u001b[0;34m\u001b[0m\u001b[0m\n\u001b[0;32m--> 406\u001b[0;31m             \u001b[0mfold\u001b[0m\u001b[0;34m.\u001b[0m\u001b[0mupdate\u001b[0m\u001b[0;34m(\u001b[0m\u001b[0mi\u001b[0m\u001b[0;34m,\u001b[0m \u001b[0mobj\u001b[0m\u001b[0;34m)\u001b[0m\u001b[0;34m\u001b[0m\u001b[0m\n\u001b[0m\u001b[1;32m    407\u001b[0m         \u001b[0mres\u001b[0m \u001b[0;34m=\u001b[0m \u001b[0maggcv\u001b[0m\u001b[0;34m(\u001b[0m\u001b[0;34m[\u001b[0m\u001b[0mf\u001b[0m\u001b[0;34m.\u001b[0m\u001b[0meval\u001b[0m\u001b[0;34m(\u001b[0m\u001b[0mi\u001b[0m\u001b[0;34m,\u001b[0m \u001b[0mfeval\u001b[0m\u001b[0;34m)\u001b[0m \u001b[0;32mfor\u001b[0m \u001b[0mf\u001b[0m \u001b[0;32min\u001b[0m \u001b[0mcvfolds\u001b[0m\u001b[0;34m]\u001b[0m\u001b[0;34m)\u001b[0m\u001b[0;34m\u001b[0m\u001b[0m\n\u001b[1;32m    408\u001b[0m \u001b[0;34m\u001b[0m\u001b[0m\n",
      "\u001b[0;32m~/src/anaconda3/envs/fastai/lib/python3.6/site-packages/xgboost/training.py\u001b[0m in \u001b[0;36mupdate\u001b[0;34m(self, iteration, fobj)\u001b[0m\n\u001b[1;32m    216\u001b[0m     \u001b[0;32mdef\u001b[0m \u001b[0mupdate\u001b[0m\u001b[0;34m(\u001b[0m\u001b[0mself\u001b[0m\u001b[0;34m,\u001b[0m \u001b[0miteration\u001b[0m\u001b[0;34m,\u001b[0m \u001b[0mfobj\u001b[0m\u001b[0;34m)\u001b[0m\u001b[0;34m:\u001b[0m\u001b[0;34m\u001b[0m\u001b[0m\n\u001b[1;32m    217\u001b[0m         \u001b[0;34m\"\"\"\"Update the boosters for one iteration\"\"\"\u001b[0m\u001b[0;34m\u001b[0m\u001b[0m\n\u001b[0;32m--> 218\u001b[0;31m         \u001b[0mself\u001b[0m\u001b[0;34m.\u001b[0m\u001b[0mbst\u001b[0m\u001b[0;34m.\u001b[0m\u001b[0mupdate\u001b[0m\u001b[0;34m(\u001b[0m\u001b[0mself\u001b[0m\u001b[0;34m.\u001b[0m\u001b[0mdtrain\u001b[0m\u001b[0;34m,\u001b[0m \u001b[0miteration\u001b[0m\u001b[0;34m,\u001b[0m \u001b[0mfobj\u001b[0m\u001b[0;34m)\u001b[0m\u001b[0;34m\u001b[0m\u001b[0m\n\u001b[0m\u001b[1;32m    219\u001b[0m \u001b[0;34m\u001b[0m\u001b[0m\n\u001b[1;32m    220\u001b[0m     \u001b[0;32mdef\u001b[0m \u001b[0meval\u001b[0m\u001b[0;34m(\u001b[0m\u001b[0mself\u001b[0m\u001b[0;34m,\u001b[0m \u001b[0miteration\u001b[0m\u001b[0;34m,\u001b[0m \u001b[0mfeval\u001b[0m\u001b[0;34m)\u001b[0m\u001b[0;34m:\u001b[0m\u001b[0;34m\u001b[0m\u001b[0m\n",
      "\u001b[0;32m~/src/anaconda3/envs/fastai/lib/python3.6/site-packages/xgboost/core.py\u001b[0m in \u001b[0;36mupdate\u001b[0;34m(self, dtrain, iteration, fobj)\u001b[0m\n\u001b[1;32m    896\u001b[0m         \u001b[0;32mif\u001b[0m \u001b[0mfobj\u001b[0m \u001b[0;32mis\u001b[0m \u001b[0;32mNone\u001b[0m\u001b[0;34m:\u001b[0m\u001b[0;34m\u001b[0m\u001b[0m\n\u001b[1;32m    897\u001b[0m             _check_call(_LIB.XGBoosterUpdateOneIter(self.handle, ctypes.c_int(iteration),\n\u001b[0;32m--> 898\u001b[0;31m                                                     dtrain.handle))\n\u001b[0m\u001b[1;32m    899\u001b[0m         \u001b[0;32melse\u001b[0m\u001b[0;34m:\u001b[0m\u001b[0;34m\u001b[0m\u001b[0m\n\u001b[1;32m    900\u001b[0m             \u001b[0mpred\u001b[0m \u001b[0;34m=\u001b[0m \u001b[0mself\u001b[0m\u001b[0;34m.\u001b[0m\u001b[0mpredict\u001b[0m\u001b[0;34m(\u001b[0m\u001b[0mdtrain\u001b[0m\u001b[0;34m)\u001b[0m\u001b[0;34m\u001b[0m\u001b[0m\n",
      "\u001b[0;31mKeyboardInterrupt\u001b[0m: "
     ]
    }
   ],
   "source": [
    "clf_xgb_cv = xgb.cv(params, dtrain, num_boost_round=1000, early_stopping_rounds=30, nfold=5, verbose_eval=True)"
   ]
  },
  {
   "cell_type": "code",
   "execution_count": null,
   "metadata": {},
   "outputs": [],
   "source": []
  }
 ],
 "metadata": {
  "kernelspec": {
   "display_name": "Python 3",
   "language": "python",
   "name": "python3"
  },
  "language_info": {
   "codemirror_mode": {
    "name": "ipython",
    "version": 3
   },
   "file_extension": ".py",
   "mimetype": "text/x-python",
   "name": "python",
   "nbconvert_exporter": "python",
   "pygments_lexer": "ipython3",
   "version": "3.6.4"
  }
 },
 "nbformat": 4,
 "nbformat_minor": 2
}
