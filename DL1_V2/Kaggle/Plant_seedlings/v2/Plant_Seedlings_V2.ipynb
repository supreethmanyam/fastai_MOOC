{
 "cells": [
  {
   "cell_type": "code",
   "execution_count": 1,
   "metadata": {},
   "outputs": [],
   "source": [
    "%reload_ext autoreload\n",
    "%autoreload 2\n",
    "%matplotlib inline"
   ]
  },
  {
   "cell_type": "code",
   "execution_count": 2,
   "metadata": {},
   "outputs": [],
   "source": [
    "# Only one time run if you do not have fastai in the current working directory or have not symlinked yet.\n",
    "!ln -s ../fastai/fastai/ fastai "
   ]
  },
  {
   "cell_type": "code",
   "execution_count": 2,
   "metadata": {},
   "outputs": [],
   "source": [
    "from fastai.imports import *\n",
    "from fastai.transforms import *\n",
    "from fastai.conv_learner import *\n",
    "from fastai.model import *\n",
    "from fastai.dataset import *\n",
    "from fastai.sgdr import *\n",
    "from fastai.plots import *\n",
    "from sklearn.model_selection import StratifiedKFold\n",
    "import pandas as pd\n",
    "import numpy as np\n",
    "import os"
   ]
  },
  {
   "cell_type": "code",
   "execution_count": 3,
   "metadata": {},
   "outputs": [],
   "source": [
    "from sklearn.metrics import f1_score\n",
    "\n",
    "def f1(preds, targs):\n",
    "    return f1_score(targs, np.argmax(preds, axis=1), average='micro')\n",
    "    \n",
    "metrics = [f1]"
   ]
  },
  {
   "cell_type": "code",
   "execution_count": 5,
   "metadata": {},
   "outputs": [],
   "source": [
    "PATH= \"data/\"\n",
    "sz = 300\n",
    "bs = 64\n",
    "# labels_csv = f'{PATH}labels_sample.csv'\n",
    "labels_csv = f'{PATH}labels.csv'\n",
    "labels = pd.read_csv(labels_csv)\n",
    "SEED = 2018"
   ]
  },
  {
   "cell_type": "code",
   "execution_count": 6,
   "metadata": {},
   "outputs": [],
   "source": [
    "model = resnet50"
   ]
  },
  {
   "cell_type": "code",
   "execution_count": 7,
   "metadata": {},
   "outputs": [],
   "source": [
    "def get_data(sz, val_idxs, test_name=None):\n",
    "    tfms = tfms_from_model(model, sz, aug_tfms=transforms_top_down, max_zoom=1.1)\n",
    "    return ImageClassifierData.from_csv(PATH, 'train_all', labels_csv, tfms=tfms,\n",
    "                    suffix='', val_idxs=val_idxs, test_name=test_name)"
   ]
  },
  {
   "cell_type": "code",
   "execution_count": 8,
   "metadata": {},
   "outputs": [
    {
     "name": "stdout",
     "output_type": "stream",
     "text": [
      "Fold: 1\n",
      "100%|██████████| 60/60 [01:06<00:00,  1.11s/it]\n",
      "100%|██████████| 15/15 [00:17<00:00,  1.18s/it]\n"
     ]
    },
    {
     "data": {
      "application/vnd.jupyter.widget-view+json": {
       "model_id": "d82454ad7b824a87bdc6b0fcff20c621",
       "version_major": 2,
       "version_minor": 0
      },
      "text/html": [
       "<p>Failed to display Jupyter Widget of type <code>HBox</code>.</p>\n",
       "<p>\n",
       "  If you're reading this message in the Jupyter Notebook or JupyterLab Notebook, it may mean\n",
       "  that the widgets JavaScript is still loading. If this message persists, it\n",
       "  likely means that the widgets JavaScript library is either not installed or\n",
       "  not enabled. See the <a href=\"https://ipywidgets.readthedocs.io/en/stable/user_install.html\">Jupyter\n",
       "  Widgets Documentation</a> for setup instructions.\n",
       "</p>\n",
       "<p>\n",
       "  If you're reading this message in another frontend (for example, a static\n",
       "  rendering on GitHub or <a href=\"https://nbviewer.jupyter.org/\">NBViewer</a>),\n",
       "  it may mean that your frontend doesn't currently support widgets.\n",
       "</p>\n"
      ],
      "text/plain": [
       "HBox(children=(IntProgress(value=0, description='Epoch', max=7), HTML(value='')))"
      ]
     },
     "metadata": {},
     "output_type": "display_data"
    },
    {
     "name": "stdout",
     "output_type": "stream",
     "text": [
      "epoch      trn_loss   val_loss   f1                       \n",
      "    0      1.208291   0.671543   0.769931  \n",
      "    1      1.040046   0.558023   0.824375                 \n",
      "    2      0.75204    0.430501   0.857986                  \n",
      "    3      0.730463   0.443853   0.855694                  \n",
      "    4      0.620886   0.426372   0.865278                  \n",
      "    5      0.498035   0.322977   0.896528                  \n",
      "    6      0.424227   0.314085   0.897569                  \n",
      "\n"
     ]
    },
    {
     "data": {
      "application/vnd.jupyter.widget-view+json": {
       "model_id": "e6d5d4c2e3ba4be782eeaccbfab2741c",
       "version_major": 2,
       "version_minor": 0
      },
      "text/html": [
       "<p>Failed to display Jupyter Widget of type <code>HBox</code>.</p>\n",
       "<p>\n",
       "  If you're reading this message in the Jupyter Notebook or JupyterLab Notebook, it may mean\n",
       "  that the widgets JavaScript is still loading. If this message persists, it\n",
       "  likely means that the widgets JavaScript library is either not installed or\n",
       "  not enabled. See the <a href=\"https://ipywidgets.readthedocs.io/en/stable/user_install.html\">Jupyter\n",
       "  Widgets Documentation</a> for setup instructions.\n",
       "</p>\n",
       "<p>\n",
       "  If you're reading this message in another frontend (for example, a static\n",
       "  rendering on GitHub or <a href=\"https://nbviewer.jupyter.org/\">NBViewer</a>),\n",
       "  it may mean that your frontend doesn't currently support widgets.\n",
       "</p>\n"
      ],
      "text/plain": [
       "HBox(children=(IntProgress(value=0, description='Epoch', max=7), HTML(value='')))"
      ]
     },
     "metadata": {},
     "output_type": "display_data"
    },
    {
     "name": "stdout",
     "output_type": "stream",
     "text": [
      "epoch      trn_loss   val_loss   f1                        \n",
      "    0      0.4925     0.216315   0.923889  \n",
      "    1      0.341247   0.22705    0.912361                  \n",
      "    2      0.198099   0.142984   0.955139                  \n",
      "    3      0.187044   0.311119   0.895417                  \n",
      "    4      0.150891   0.147363   0.954028                  \n",
      "    5      0.111539   0.126027   0.966528                  \n",
      "    6      0.084473   0.118437   0.965625                   \n",
      "\n",
      "Fold: 2                                      \n",
      "100%|██████████| 60/60 [01:05<00:00,  1.10s/it]\n",
      "100%|██████████| 15/15 [00:18<00:00,  1.22s/it]\n"
     ]
    },
    {
     "data": {
      "application/vnd.jupyter.widget-view+json": {
       "model_id": "1b15b326bc214e29849dd3e9315bf155",
       "version_major": 2,
       "version_minor": 0
      },
      "text/html": [
       "<p>Failed to display Jupyter Widget of type <code>HBox</code>.</p>\n",
       "<p>\n",
       "  If you're reading this message in the Jupyter Notebook or JupyterLab Notebook, it may mean\n",
       "  that the widgets JavaScript is still loading. If this message persists, it\n",
       "  likely means that the widgets JavaScript library is either not installed or\n",
       "  not enabled. See the <a href=\"https://ipywidgets.readthedocs.io/en/stable/user_install.html\">Jupyter\n",
       "  Widgets Documentation</a> for setup instructions.\n",
       "</p>\n",
       "<p>\n",
       "  If you're reading this message in another frontend (for example, a static\n",
       "  rendering on GitHub or <a href=\"https://nbviewer.jupyter.org/\">NBViewer</a>),\n",
       "  it may mean that your frontend doesn't currently support widgets.\n",
       "</p>\n"
      ],
      "text/plain": [
       "HBox(children=(IntProgress(value=0, description='Epoch', max=7), HTML(value='')))"
      ]
     },
     "metadata": {},
     "output_type": "display_data"
    },
    {
     "name": "stdout",
     "output_type": "stream",
     "text": [
      "epoch      trn_loss   val_loss   f1                       \n",
      "    0      1.235509   0.551195   0.812384  \n",
      "    1      1.009985   0.530252   0.846836                 \n",
      "    2      0.735725   0.383554   0.860494                  \n",
      "    3      0.711683   0.435541   0.850733                  \n",
      "    4      0.633401   0.343247   0.894213                  \n",
      "    5      0.485709   0.278677   0.911265                  \n",
      "    6      0.416501   0.278112   0.903974                  \n",
      "\n"
     ]
    },
    {
     "data": {
      "application/vnd.jupyter.widget-view+json": {
       "model_id": "60cdca45c75f44a4b5374db13c6c42e6",
       "version_major": 2,
       "version_minor": 0
      },
      "text/html": [
       "<p>Failed to display Jupyter Widget of type <code>HBox</code>.</p>\n",
       "<p>\n",
       "  If you're reading this message in the Jupyter Notebook or JupyterLab Notebook, it may mean\n",
       "  that the widgets JavaScript is still loading. If this message persists, it\n",
       "  likely means that the widgets JavaScript library is either not installed or\n",
       "  not enabled. See the <a href=\"https://ipywidgets.readthedocs.io/en/stable/user_install.html\">Jupyter\n",
       "  Widgets Documentation</a> for setup instructions.\n",
       "</p>\n",
       "<p>\n",
       "  If you're reading this message in another frontend (for example, a static\n",
       "  rendering on GitHub or <a href=\"https://nbviewer.jupyter.org/\">NBViewer</a>),\n",
       "  it may mean that your frontend doesn't currently support widgets.\n",
       "</p>\n"
      ],
      "text/plain": [
       "HBox(children=(IntProgress(value=0, description='Epoch', max=7), HTML(value='')))"
      ]
     },
     "metadata": {},
     "output_type": "display_data"
    },
    {
     "name": "stdout",
     "output_type": "stream",
     "text": [
      "epoch      trn_loss   val_loss   f1                        \n",
      "    0      0.521161   0.229223   0.917515  \n",
      "    1      0.337625   0.185547   0.929244                  \n",
      "    2      0.210141   0.136496   0.948958                  \n",
      "    3      0.218943   0.153732   0.944406                  \n",
      "    4      0.164565   0.142105   0.957099                  \n",
      "    5      0.120594   0.105216   0.968364                  \n",
      "    6      0.086347   0.105973   0.969406                   \n",
      "\n",
      "Fold: 3                                      \n",
      "100%|██████████| 60/60 [01:06<00:00,  1.10s/it]\n",
      "100%|██████████| 15/15 [00:17<00:00,  1.18s/it]\n"
     ]
    },
    {
     "data": {
      "application/vnd.jupyter.widget-view+json": {
       "model_id": "a0a74da0afe7432f9a45ba17c171215a",
       "version_major": 2,
       "version_minor": 0
      },
      "text/html": [
       "<p>Failed to display Jupyter Widget of type <code>HBox</code>.</p>\n",
       "<p>\n",
       "  If you're reading this message in the Jupyter Notebook or JupyterLab Notebook, it may mean\n",
       "  that the widgets JavaScript is still loading. If this message persists, it\n",
       "  likely means that the widgets JavaScript library is either not installed or\n",
       "  not enabled. See the <a href=\"https://ipywidgets.readthedocs.io/en/stable/user_install.html\">Jupyter\n",
       "  Widgets Documentation</a> for setup instructions.\n",
       "</p>\n",
       "<p>\n",
       "  If you're reading this message in another frontend (for example, a static\n",
       "  rendering on GitHub or <a href=\"https://nbviewer.jupyter.org/\">NBViewer</a>),\n",
       "  it may mean that your frontend doesn't currently support widgets.\n",
       "</p>\n"
      ],
      "text/plain": [
       "HBox(children=(IntProgress(value=0, description='Epoch', max=7), HTML(value='')))"
      ]
     },
     "metadata": {},
     "output_type": "display_data"
    },
    {
     "name": "stdout",
     "output_type": "stream",
     "text": [
      "epoch      trn_loss   val_loss   f1                       \n",
      "    0      1.225543   0.667517   0.760122  \n",
      "    1      0.985529   0.79485    0.781211                  \n",
      "    2      0.729135   0.480476   0.838895                  \n",
      "    3      0.651501   0.466219   0.837854                  \n",
      "    4      0.585864   0.392133   0.862461                  \n",
      "    5      0.486367   0.341214   0.882252                  \n",
      "    6      0.421973   0.331837   0.878086                  \n",
      "\n"
     ]
    },
    {
     "data": {
      "application/vnd.jupyter.widget-view+json": {
       "model_id": "700af8b4a5a1456bbccf492a30dac517",
       "version_major": 2,
       "version_minor": 0
      },
      "text/html": [
       "<p>Failed to display Jupyter Widget of type <code>HBox</code>.</p>\n",
       "<p>\n",
       "  If you're reading this message in the Jupyter Notebook or JupyterLab Notebook, it may mean\n",
       "  that the widgets JavaScript is still loading. If this message persists, it\n",
       "  likely means that the widgets JavaScript library is either not installed or\n",
       "  not enabled. See the <a href=\"https://ipywidgets.readthedocs.io/en/stable/user_install.html\">Jupyter\n",
       "  Widgets Documentation</a> for setup instructions.\n",
       "</p>\n",
       "<p>\n",
       "  If you're reading this message in another frontend (for example, a static\n",
       "  rendering on GitHub or <a href=\"https://nbviewer.jupyter.org/\">NBViewer</a>),\n",
       "  it may mean that your frontend doesn't currently support widgets.\n",
       "</p>\n"
      ],
      "text/plain": [
       "HBox(children=(IntProgress(value=0, description='Epoch', max=7), HTML(value='')))"
      ]
     },
     "metadata": {},
     "output_type": "display_data"
    },
    {
     "name": "stdout",
     "output_type": "stream",
     "text": [
      "epoch      trn_loss   val_loss   f1                        \n",
      "    0      0.537532   0.22364    0.915586  \n",
      "    1      0.35654    0.151728   0.944359                  \n",
      "    2      0.216635   0.131649   0.953734                  \n",
      "    3      0.197696   0.155999   0.944143                  \n",
      "    4      0.165544   0.144377   0.940193                  \n",
      "    5      0.124663   0.091286   0.965193                  \n",
      "    6      0.093348   0.081824   0.970401                   \n",
      "\n",
      "Fold: 4                                      \n",
      "100%|██████████| 60/60 [01:05<00:00,  1.09s/it]\n",
      "100%|██████████| 15/15 [00:17<00:00,  1.17s/it]\n"
     ]
    },
    {
     "data": {
      "application/vnd.jupyter.widget-view+json": {
       "model_id": "e225fa21dc0b4cc9a6da32a22b1fc55c",
       "version_major": 2,
       "version_minor": 0
      },
      "text/html": [
       "<p>Failed to display Jupyter Widget of type <code>HBox</code>.</p>\n",
       "<p>\n",
       "  If you're reading this message in the Jupyter Notebook or JupyterLab Notebook, it may mean\n",
       "  that the widgets JavaScript is still loading. If this message persists, it\n",
       "  likely means that the widgets JavaScript library is either not installed or\n",
       "  not enabled. See the <a href=\"https://ipywidgets.readthedocs.io/en/stable/user_install.html\">Jupyter\n",
       "  Widgets Documentation</a> for setup instructions.\n",
       "</p>\n",
       "<p>\n",
       "  If you're reading this message in another frontend (for example, a static\n",
       "  rendering on GitHub or <a href=\"https://nbviewer.jupyter.org/\">NBViewer</a>),\n",
       "  it may mean that your frontend doesn't currently support widgets.\n",
       "</p>\n"
      ],
      "text/plain": [
       "HBox(children=(IntProgress(value=0, description='Epoch', max=7), HTML(value='')))"
      ]
     },
     "metadata": {},
     "output_type": "display_data"
    },
    {
     "name": "stdout",
     "output_type": "stream",
     "text": [
      "epoch      trn_loss   val_loss   f1                       \n",
      "    0      1.250048   0.634108   0.794231  \n",
      "    1      1.021005   0.652025   0.799279                 \n",
      "    2      0.757653   0.398442   0.854407                  \n",
      "    3      0.708578   0.427881   0.856651                  \n",
      "    4      0.566276   0.423703   0.853846                  \n",
      "    5      0.476203   0.304372   0.898798                  \n",
      "    6      0.41175    0.293824   0.90609                   \n",
      "\n"
     ]
    },
    {
     "data": {
      "application/vnd.jupyter.widget-view+json": {
       "model_id": "caced3863dad45af8559ba8b290c53c1",
       "version_major": 2,
       "version_minor": 0
      },
      "text/html": [
       "<p>Failed to display Jupyter Widget of type <code>HBox</code>.</p>\n",
       "<p>\n",
       "  If you're reading this message in the Jupyter Notebook or JupyterLab Notebook, it may mean\n",
       "  that the widgets JavaScript is still loading. If this message persists, it\n",
       "  likely means that the widgets JavaScript library is either not installed or\n",
       "  not enabled. See the <a href=\"https://ipywidgets.readthedocs.io/en/stable/user_install.html\">Jupyter\n",
       "  Widgets Documentation</a> for setup instructions.\n",
       "</p>\n",
       "<p>\n",
       "  If you're reading this message in another frontend (for example, a static\n",
       "  rendering on GitHub or <a href=\"https://nbviewer.jupyter.org/\">NBViewer</a>),\n",
       "  it may mean that your frontend doesn't currently support widgets.\n",
       "</p>\n"
      ],
      "text/plain": [
       "HBox(children=(IntProgress(value=0, description='Epoch', max=7), HTML(value='')))"
      ]
     },
     "metadata": {},
     "output_type": "display_data"
    },
    {
     "name": "stdout",
     "output_type": "stream",
     "text": [
      "epoch      trn_loss   val_loss   f1                        \n",
      "    0      0.570264   0.266986   0.90609   \n",
      "    1      0.349557   0.158299   0.948478                  \n",
      "    2      0.215635   0.115672   0.966426                  \n",
      "    3      0.230171   0.255438   0.926362                  \n",
      "    4      0.179876   0.115127   0.96851                   \n",
      "    5      0.124585   0.11021    0.966667                  \n",
      "    6      0.102423   0.103124   0.96875                    \n",
      "\n",
      "Fold: 5                                      \n",
      "100%|██████████| 60/60 [01:05<00:00,  1.09s/it]\n",
      "100%|██████████| 15/15 [00:18<00:00,  1.20s/it]\n"
     ]
    },
    {
     "data": {
      "application/vnd.jupyter.widget-view+json": {
       "model_id": "0b834bbebd354f75bf3d2ae10f0c2827",
       "version_major": 2,
       "version_minor": 0
      },
      "text/html": [
       "<p>Failed to display Jupyter Widget of type <code>HBox</code>.</p>\n",
       "<p>\n",
       "  If you're reading this message in the Jupyter Notebook or JupyterLab Notebook, it may mean\n",
       "  that the widgets JavaScript is still loading. If this message persists, it\n",
       "  likely means that the widgets JavaScript library is either not installed or\n",
       "  not enabled. See the <a href=\"https://ipywidgets.readthedocs.io/en/stable/user_install.html\">Jupyter\n",
       "  Widgets Documentation</a> for setup instructions.\n",
       "</p>\n",
       "<p>\n",
       "  If you're reading this message in another frontend (for example, a static\n",
       "  rendering on GitHub or <a href=\"https://nbviewer.jupyter.org/\">NBViewer</a>),\n",
       "  it may mean that your frontend doesn't currently support widgets.\n",
       "</p>\n"
      ],
      "text/plain": [
       "HBox(children=(IntProgress(value=0, description='Epoch', max=7), HTML(value='')))"
      ]
     },
     "metadata": {},
     "output_type": "display_data"
    },
    {
     "name": "stdout",
     "output_type": "stream",
     "text": [
      "epoch      trn_loss   val_loss   f1                       \n",
      "    0      1.252671   0.625764   0.784865  \n",
      "    1      0.995649   0.620473   0.8221                    \n",
      "    2      0.739849   0.446328   0.851797                  \n",
      "    3      0.733677   0.566443   0.817136                  \n",
      "    4      0.628434   0.415779   0.851266                  \n",
      "    5      0.48505    0.323743   0.891136                  \n",
      "    6      0.404668   0.324692   0.880188                  \n",
      "\n"
     ]
    },
    {
     "data": {
      "application/vnd.jupyter.widget-view+json": {
       "model_id": "7b84d227854f4accb9082f19551d8b0d",
       "version_major": 2,
       "version_minor": 0
      },
      "text/html": [
       "<p>Failed to display Jupyter Widget of type <code>HBox</code>.</p>\n",
       "<p>\n",
       "  If you're reading this message in the Jupyter Notebook or JupyterLab Notebook, it may mean\n",
       "  that the widgets JavaScript is still loading. If this message persists, it\n",
       "  likely means that the widgets JavaScript library is either not installed or\n",
       "  not enabled. See the <a href=\"https://ipywidgets.readthedocs.io/en/stable/user_install.html\">Jupyter\n",
       "  Widgets Documentation</a> for setup instructions.\n",
       "</p>\n",
       "<p>\n",
       "  If you're reading this message in another frontend (for example, a static\n",
       "  rendering on GitHub or <a href=\"https://nbviewer.jupyter.org/\">NBViewer</a>),\n",
       "  it may mean that your frontend doesn't currently support widgets.\n",
       "</p>\n"
      ],
      "text/plain": [
       "HBox(children=(IntProgress(value=0, description='Epoch', max=7), HTML(value='')))"
      ]
     },
     "metadata": {},
     "output_type": "display_data"
    },
    {
     "name": "stdout",
     "output_type": "stream",
     "text": [
      "epoch      trn_loss   val_loss   f1                        \n",
      "    0      0.571332   0.240129   0.91248   \n",
      "    1      0.386225   0.212108   0.923938                  \n",
      "    2      0.250082   0.135734   0.951552                  \n",
      "    3      0.206861   0.183572   0.93462                   \n",
      "    4      0.163319   0.118332   0.965094                  \n",
      "    5      0.130128   0.097027   0.967443                  \n",
      "    6      0.09329    0.09883    0.965094                   \n",
      "\n",
      "                                             \r"
     ]
    }
   ],
   "source": [
    "skf = StratifiedKFold(n_splits=5, shuffle=False, random_state=SEED)\n",
    "for fold, (b_id, v_id) in enumerate(skf.split(labels, labels['species'])):\n",
    "    print(f'Fold: {fold+1}')\n",
    "    data = get_data(sz, v_id, test_name='test')\n",
    "    torch.manual_seed(SEED)\n",
    "    learn = ConvLearner.pretrained(model, data, precompute=True, metrics=metrics)\n",
    "    learn.precompute = False\n",
    "    lr = 0.1\n",
    "    learn.fit(lr, 3, cycle_len=1, cycle_mult=2)\n",
    "    lrs = np.array([lr/100,lr/10,lr])\n",
    "    learn.unfreeze()\n",
    "    learn.fit(lrs, 3, cycle_len=1, cycle_mult=2)\n",
    "    if fold == 0:\n",
    "        val_log_preds = learn.TTA()\n",
    "        val_preds_df = pd.DataFrame(val_log_preds[0][0], columns=data.classes)\n",
    "        val_preds_df['file'] = np.vectorize(lambda x: os.path.basename(x))(data.val_ds.fnames)\n",
    "        val_preds_df['species'] = data.val_ds.y\n",
    "        train_preds_df = val_preds_df.copy()\n",
    "        test_log_preds = learn.TTA(is_test=True)[0][0]\n",
    "    else:\n",
    "        test_log_preds = test_log_preds + learn.TTA(is_test=True)[0][0]\n",
    "        val_log_preds = learn.TTA()\n",
    "        val_preds_df = pd.DataFrame(val_log_preds[0][0], columns=data.classes)\n",
    "        val_preds_df['file'] = np.vectorize(lambda x: os.path.basename(x))(data.val_ds.fnames)\n",
    "        val_preds_df['species'] = data.val_ds.y\n",
    "        train_preds_df = pd.concat((train_preds_df, val_preds_df), ignore_index=True)"
   ]
  },
  {
   "cell_type": "code",
   "execution_count": 10,
   "metadata": {},
   "outputs": [
    {
     "data": {
      "text/plain": [
       "0.9677894736842105"
      ]
     },
     "execution_count": 10,
     "metadata": {},
     "output_type": "execute_result"
    }
   ],
   "source": [
    "f1(np.exp(train_preds_df[data.classes].values), train_preds_df['species'])"
   ]
  },
  {
   "cell_type": "code",
   "execution_count": 31,
   "metadata": {},
   "outputs": [],
   "source": [
    "test_preds_df = pd.DataFrame(np.exp(test_log_preds/5), columns=data.classes)\n",
    "test_preds_df['file'] = np.vectorize(lambda x: os.path.basename(x))(data.test_ds.fnames)"
   ]
  },
  {
   "cell_type": "code",
   "execution_count": 32,
   "metadata": {},
   "outputs": [],
   "source": [
    "test_preds_df['species'] = [data.classes[i].replace('_', ' ') for i in np.argmax(test_preds_df[data.classes].values, axis=1)]"
   ]
  },
  {
   "cell_type": "code",
   "execution_count": 33,
   "metadata": {},
   "outputs": [
    {
     "data": {
      "text/html": [
       "<div>\n",
       "<style scoped>\n",
       "    .dataframe tbody tr th:only-of-type {\n",
       "        vertical-align: middle;\n",
       "    }\n",
       "\n",
       "    .dataframe tbody tr th {\n",
       "        vertical-align: top;\n",
       "    }\n",
       "\n",
       "    .dataframe thead th {\n",
       "        text-align: right;\n",
       "    }\n",
       "</style>\n",
       "<table border=\"1\" class=\"dataframe\">\n",
       "  <thead>\n",
       "    <tr style=\"text-align: right;\">\n",
       "      <th></th>\n",
       "      <th>Black-grass</th>\n",
       "      <th>Charlock</th>\n",
       "      <th>Cleavers</th>\n",
       "      <th>Common_Chickweed</th>\n",
       "      <th>Common_wheat</th>\n",
       "      <th>Fat_Hen</th>\n",
       "      <th>Loose_Silky-bent</th>\n",
       "      <th>Maize</th>\n",
       "      <th>Scentless_Mayweed</th>\n",
       "      <th>Shepherds_Purse</th>\n",
       "      <th>Small-flowered_Cranesbill</th>\n",
       "      <th>Sugar_beet</th>\n",
       "      <th>file</th>\n",
       "      <th>species</th>\n",
       "    </tr>\n",
       "  </thead>\n",
       "  <tbody>\n",
       "    <tr>\n",
       "      <th>0</th>\n",
       "      <td>1.640355e-06</td>\n",
       "      <td>1.751400e-07</td>\n",
       "      <td>7.370861e-06</td>\n",
       "      <td>3.287016e-06</td>\n",
       "      <td>1.608192e-05</td>\n",
       "      <td>9.996596e-01</td>\n",
       "      <td>6.870133e-07</td>\n",
       "      <td>2.517068e-06</td>\n",
       "      <td>5.710407e-08</td>\n",
       "      <td>2.562196e-07</td>\n",
       "      <td>8.622136e-06</td>\n",
       "      <td>1.751617e-04</td>\n",
       "      <td>12625488b.png</td>\n",
       "      <td>Fat Hen</td>\n",
       "    </tr>\n",
       "    <tr>\n",
       "      <th>1</th>\n",
       "      <td>3.622723e-07</td>\n",
       "      <td>1.305211e-08</td>\n",
       "      <td>3.470237e-07</td>\n",
       "      <td>1.316741e-07</td>\n",
       "      <td>1.330197e-06</td>\n",
       "      <td>9.999396e-01</td>\n",
       "      <td>3.130357e-07</td>\n",
       "      <td>7.326044e-08</td>\n",
       "      <td>1.174057e-08</td>\n",
       "      <td>6.038574e-08</td>\n",
       "      <td>2.486706e-06</td>\n",
       "      <td>4.568395e-06</td>\n",
       "      <td>c832e4302.png</td>\n",
       "      <td>Fat Hen</td>\n",
       "    </tr>\n",
       "    <tr>\n",
       "      <th>2</th>\n",
       "      <td>5.954057e-01</td>\n",
       "      <td>1.507110e-05</td>\n",
       "      <td>8.142756e-04</td>\n",
       "      <td>1.240898e-04</td>\n",
       "      <td>7.762262e-04</td>\n",
       "      <td>3.348030e-04</td>\n",
       "      <td>3.026007e-01</td>\n",
       "      <td>2.263331e-05</td>\n",
       "      <td>2.644156e-04</td>\n",
       "      <td>1.921733e-05</td>\n",
       "      <td>2.076544e-04</td>\n",
       "      <td>9.889746e-05</td>\n",
       "      <td>e82017baa.png</td>\n",
       "      <td>Black-grass</td>\n",
       "    </tr>\n",
       "    <tr>\n",
       "      <th>3</th>\n",
       "      <td>6.442500e-08</td>\n",
       "      <td>4.145404e-07</td>\n",
       "      <td>2.409246e-05</td>\n",
       "      <td>1.981121e-05</td>\n",
       "      <td>6.293905e-09</td>\n",
       "      <td>2.175390e-08</td>\n",
       "      <td>8.150451e-07</td>\n",
       "      <td>4.776295e-08</td>\n",
       "      <td>9.991668e-01</td>\n",
       "      <td>2.179849e-04</td>\n",
       "      <td>2.365305e-07</td>\n",
       "      <td>8.582500e-07</td>\n",
       "      <td>c10ccbd82.png</td>\n",
       "      <td>Scentless Mayweed</td>\n",
       "    </tr>\n",
       "    <tr>\n",
       "      <th>4</th>\n",
       "      <td>1.522028e-08</td>\n",
       "      <td>5.120585e-07</td>\n",
       "      <td>1.669442e-06</td>\n",
       "      <td>1.296239e-06</td>\n",
       "      <td>1.183461e-09</td>\n",
       "      <td>9.362329e-08</td>\n",
       "      <td>2.379516e-08</td>\n",
       "      <td>1.013752e-07</td>\n",
       "      <td>6.854030e-08</td>\n",
       "      <td>2.723275e-05</td>\n",
       "      <td>9.999272e-01</td>\n",
       "      <td>1.024319e-09</td>\n",
       "      <td>8b27bfd2b.png</td>\n",
       "      <td>Small-flowered Cranesbill</td>\n",
       "    </tr>\n",
       "  </tbody>\n",
       "</table>\n",
       "</div>"
      ],
      "text/plain": [
       "    Black-grass      Charlock      Cleavers  Common_Chickweed  Common_wheat  \\\n",
       "0  1.640355e-06  1.751400e-07  7.370861e-06      3.287016e-06  1.608192e-05   \n",
       "1  3.622723e-07  1.305211e-08  3.470237e-07      1.316741e-07  1.330197e-06   \n",
       "2  5.954057e-01  1.507110e-05  8.142756e-04      1.240898e-04  7.762262e-04   \n",
       "3  6.442500e-08  4.145404e-07  2.409246e-05      1.981121e-05  6.293905e-09   \n",
       "4  1.522028e-08  5.120585e-07  1.669442e-06      1.296239e-06  1.183461e-09   \n",
       "\n",
       "        Fat_Hen  Loose_Silky-bent         Maize  Scentless_Mayweed  \\\n",
       "0  9.996596e-01      6.870133e-07  2.517068e-06       5.710407e-08   \n",
       "1  9.999396e-01      3.130357e-07  7.326044e-08       1.174057e-08   \n",
       "2  3.348030e-04      3.026007e-01  2.263331e-05       2.644156e-04   \n",
       "3  2.175390e-08      8.150451e-07  4.776295e-08       9.991668e-01   \n",
       "4  9.362329e-08      2.379516e-08  1.013752e-07       6.854030e-08   \n",
       "\n",
       "   Shepherds_Purse  Small-flowered_Cranesbill    Sugar_beet           file  \\\n",
       "0     2.562196e-07               8.622136e-06  1.751617e-04  12625488b.png   \n",
       "1     6.038574e-08               2.486706e-06  4.568395e-06  c832e4302.png   \n",
       "2     1.921733e-05               2.076544e-04  9.889746e-05  e82017baa.png   \n",
       "3     2.179849e-04               2.365305e-07  8.582500e-07  c10ccbd82.png   \n",
       "4     2.723275e-05               9.999272e-01  1.024319e-09  8b27bfd2b.png   \n",
       "\n",
       "                     species  \n",
       "0                    Fat Hen  \n",
       "1                    Fat Hen  \n",
       "2                Black-grass  \n",
       "3          Scentless Mayweed  \n",
       "4  Small-flowered Cranesbill  "
      ]
     },
     "execution_count": 33,
     "metadata": {},
     "output_type": "execute_result"
    }
   ],
   "source": [
    "test_preds_df.head()"
   ]
  },
  {
   "cell_type": "code",
   "execution_count": 25,
   "metadata": {},
   "outputs": [],
   "source": [
    "test_preds_df[['file', 'species']].to_csv('submit_kfold.csv', index=False)"
   ]
  },
  {
   "cell_type": "code",
   "execution_count": 26,
   "metadata": {},
   "outputs": [],
   "source": [
    "from IPython.display import FileLink"
   ]
  },
  {
   "cell_type": "code",
   "execution_count": 27,
   "metadata": {},
   "outputs": [
    {
     "data": {
      "text/html": [
       "<a href='submit_kfold.csv' target='_blank'>submit_kfold.csv</a><br>"
      ],
      "text/plain": [
       "/home/ubuntu/plant_seedlings/submit_kfold.csv"
      ]
     },
     "execution_count": 27,
     "metadata": {},
     "output_type": "execute_result"
    }
   ],
   "source": [
    "FileLink('submit_kfold.csv')"
   ]
  },
  {
   "cell_type": "code",
   "execution_count": null,
   "metadata": {},
   "outputs": [],
   "source": []
  }
 ],
 "metadata": {
  "kernelspec": {
   "display_name": "Python 3",
   "language": "python",
   "name": "python3"
  },
  "language_info": {
   "codemirror_mode": {
    "name": "ipython",
    "version": 3
   },
   "file_extension": ".py",
   "mimetype": "text/x-python",
   "name": "python",
   "nbconvert_exporter": "python",
   "pygments_lexer": "ipython3",
   "version": "3.6.4"
  }
 },
 "nbformat": 4,
 "nbformat_minor": 2
}
